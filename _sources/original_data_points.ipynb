{
 "cells": [
  {
   "cell_type": "markdown",
   "id": "9210acf9",
   "metadata": {},
   "source": [
    "# Retrieve original data points\n",
    "\n",
    "First, let's check we can retrieve the original data points consistently.\n",
    "\n",
    "## Behind-the-scenes\n",
    "\n",
    "We start by loading SPARQL queries, and sends them to RDFox to be answered against the pre-converted data. For simplicity the details are hidden in [a separate Python file](https://github.com/ukfires/probs-ISWC2021-example/blob/master/docs/example_data.py):"
   ]
  },
  {
   "cell_type": "code",
   "execution_count": 1,
   "id": "227a25a0",
   "metadata": {},
   "outputs": [],
   "source": [
    "from example_data import results"
   ]
  },
  {
   "cell_type": "markdown",
   "id": "6d973b6e",
   "metadata": {},
   "source": [
    "## Prodcom\n",
    "\n",
    "We can retrieve original data points from Prodcom linked to a classification code (`08121230`) using the following SPARQL query:\n",
    "\n",
    "```{literalinclude} queries/original_prodcom.rq\n",
    ":language: sparql\n",
    "```"
   ]
  },
  {
   "cell_type": "code",
   "execution_count": 2,
   "id": "a8102f62",
   "metadata": {},
   "outputs": [
    {
     "data": {
      "text/html": [
       "<div>\n",
       "<style scoped>\n",
       "    .dataframe tbody tr th:only-of-type {\n",
       "        vertical-align: middle;\n",
       "    }\n",
       "\n",
       "    .dataframe tbody tr th {\n",
       "        vertical-align: top;\n",
       "    }\n",
       "\n",
       "    .dataframe thead th {\n",
       "        text-align: right;\n",
       "    }\n",
       "</style>\n",
       "<table border=\"1\" class=\"dataframe\">\n",
       "  <thead>\n",
       "    <tr style=\"text-align: right;\">\n",
       "      <th></th>\n",
       "      <th>ObjectName</th>\n",
       "      <th>Role</th>\n",
       "      <th>Value</th>\n",
       "      <th>Dataset</th>\n",
       "      <th>Year</th>\n",
       "      <th>Region</th>\n",
       "      <th>Metric</th>\n",
       "    </tr>\n",
       "  </thead>\n",
       "  <tbody>\n",
       "    <tr>\n",
       "      <th>0</th>\n",
       "      <td>PRODCOM Object from Code 08121230</td>\n",
       "      <td>:SoldProduction</td>\n",
       "      <td>60255156000</td>\n",
       "      <td>:prodcom/PRODCOM2017DATA</td>\n",
       "      <td>2017</td>\n",
       "      <td>United Kingdom</td>\n",
       "      <td>quantitykind:Mass</td>\n",
       "    </tr>\n",
       "    <tr>\n",
       "      <th>1</th>\n",
       "      <td>PRODCOM Object from Code 08121230</td>\n",
       "      <td>:SoldProduction</td>\n",
       "      <td>68391115000</td>\n",
       "      <td>:prodcom/PRODCOM2018DATA</td>\n",
       "      <td>2018</td>\n",
       "      <td>United Kingdom</td>\n",
       "      <td>quantitykind:Mass</td>\n",
       "    </tr>\n",
       "  </tbody>\n",
       "</table>\n",
       "</div>"
      ],
      "text/plain": [
       "                          ObjectName             Role        Value  \\\n",
       "0  PRODCOM Object from Code 08121230  :SoldProduction  60255156000   \n",
       "1  PRODCOM Object from Code 08121230  :SoldProduction  68391115000   \n",
       "\n",
       "                    Dataset  Year          Region             Metric  \n",
       "0  :prodcom/PRODCOM2017DATA  2017  United Kingdom  quantitykind:Mass  \n",
       "1  :prodcom/PRODCOM2018DATA  2018  United Kingdom  quantitykind:Mass  "
      ]
     },
     "execution_count": 2,
     "metadata": {},
     "output_type": "execute_result"
    }
   ],
   "source": [
    "results[\"original_prodcom\"]"
   ]
  },
  {
   "cell_type": "markdown",
   "id": "69ca2697",
   "metadata": {},
   "source": [
    "The results are exactly the ones we expect (Figure 3 of the paper):\n",
    "\n",
    "```{figure} figures/original_prodcom.svg\n",
    ":name: Original Prodcom\n",
    ":width: 100%\n",
    "\n",
    "All the initial data points from Prodcom.\n",
    "```\n",
    "\n",
    "## BGS Minerals Yearbook\n",
    "\n",
    "If we want to retrieve the data points specific of the BGS Minerals Yearbook dataset:\n",
    "\n",
    "```{figure} figures/original_bgs.svg\n",
    ":name: Original BGS\n",
    ":width: 100%\n",
    "\n",
    "All the initial data points from BGS.\n",
    "```\n",
    "\n",
    "We can use the following query:\n",
    "\n",
    "```{literalinclude} queries/original_bgs.rq\n",
    ":language: sparql\n",
    "```"
   ]
  },
  {
   "cell_type": "code",
   "execution_count": 3,
   "id": "8663acf2",
   "metadata": {},
   "outputs": [
    {
     "data": {
      "text/html": [
       "<div>\n",
       "<style scoped>\n",
       "    .dataframe tbody tr th:only-of-type {\n",
       "        vertical-align: middle;\n",
       "    }\n",
       "\n",
       "    .dataframe tbody tr th {\n",
       "        vertical-align: top;\n",
       "    }\n",
       "\n",
       "    .dataframe thead th {\n",
       "        text-align: right;\n",
       "    }\n",
       "</style>\n",
       "<table border=\"1\" class=\"dataframe\">\n",
       "  <thead>\n",
       "    <tr style=\"text-align: right;\">\n",
       "      <th></th>\n",
       "      <th>ObjectName</th>\n",
       "      <th>Role</th>\n",
       "      <th>Value</th>\n",
       "      <th>Year</th>\n",
       "      <th>Region</th>\n",
       "      <th>Metric</th>\n",
       "    </tr>\n",
       "  </thead>\n",
       "  <tbody>\n",
       "    <tr>\n",
       "      <th>0</th>\n",
       "      <td>Limestone &amp; Dolomite in BGS</td>\n",
       "      <td>:SoldProduction</td>\n",
       "      <td>5.300000e+10</td>\n",
       "      <td>2014</td>\n",
       "      <td>United Kingdom</td>\n",
       "      <td>quantitykind:Mass</td>\n",
       "    </tr>\n",
       "    <tr>\n",
       "      <th>1</th>\n",
       "      <td>Sand &amp; Gravel in BGS</td>\n",
       "      <td>:SoldProduction</td>\n",
       "      <td>5.600000e+10</td>\n",
       "      <td>2014</td>\n",
       "      <td>United Kingdom</td>\n",
       "      <td>quantitykind:Mass</td>\n",
       "    </tr>\n",
       "    <tr>\n",
       "      <th>2</th>\n",
       "      <td>Crushed stone in BGS</td>\n",
       "      <td>:SoldProduction</td>\n",
       "      <td>9.900000e+10</td>\n",
       "      <td>2014</td>\n",
       "      <td>United Kingdom</td>\n",
       "      <td>quantitykind:Mass</td>\n",
       "    </tr>\n",
       "    <tr>\n",
       "      <th>3</th>\n",
       "      <td>Sandstone in BGS</td>\n",
       "      <td>:SoldProduction</td>\n",
       "      <td>1.000000e+10</td>\n",
       "      <td>2014</td>\n",
       "      <td>United Kingdom</td>\n",
       "      <td>quantitykind:Mass</td>\n",
       "    </tr>\n",
       "    <tr>\n",
       "      <th>4</th>\n",
       "      <td>Igneous rock in BGS</td>\n",
       "      <td>:SoldProduction</td>\n",
       "      <td>3.800000e+10</td>\n",
       "      <td>2014</td>\n",
       "      <td>United Kingdom</td>\n",
       "      <td>quantitykind:Mass</td>\n",
       "    </tr>\n",
       "  </tbody>\n",
       "</table>\n",
       "</div>"
      ],
      "text/plain": [
       "                    ObjectName             Role         Value  Year  \\\n",
       "0  Limestone & Dolomite in BGS  :SoldProduction  5.300000e+10  2014   \n",
       "1         Sand & Gravel in BGS  :SoldProduction  5.600000e+10  2014   \n",
       "2         Crushed stone in BGS  :SoldProduction  9.900000e+10  2014   \n",
       "3             Sandstone in BGS  :SoldProduction  1.000000e+10  2014   \n",
       "4          Igneous rock in BGS  :SoldProduction  3.800000e+10  2014   \n",
       "\n",
       "           Region             Metric  \n",
       "0  United Kingdom  quantitykind:Mass  \n",
       "1  United Kingdom  quantitykind:Mass  \n",
       "2  United Kingdom  quantitykind:Mass  \n",
       "3  United Kingdom  quantitykind:Mass  \n",
       "4  United Kingdom  quantitykind:Mass  "
      ]
     },
     "execution_count": 3,
     "metadata": {},
     "output_type": "execute_result"
    }
   ],
   "source": [
    "results[\"original_bgs\"]"
   ]
  }
 ],
 "metadata": {
  "jupytext": {
   "formats": "md:myst",
   "text_representation": {
    "extension": ".md",
    "format_name": "myst",
    "format_version": 0.13,
    "jupytext_version": "1.10.3"
   }
  },
  "kernelspec": {
   "display_name": "Python 3",
   "language": "python",
   "name": "python3"
  },
  "language_info": {
   "codemirror_mode": {
    "name": "ipython",
    "version": 3
   },
   "file_extension": ".py",
   "mimetype": "text/x-python",
   "name": "python",
   "nbconvert_exporter": "python",
   "pygments_lexer": "ipython3",
   "version": "3.8.13"
  },
  "source_map": [
   13,
   23,
   25,
   35,
   37,
   65
  ]
 },
 "nbformat": 4,
 "nbformat_minor": 5
}