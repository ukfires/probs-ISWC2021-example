{
 "cells": [
  {
   "cell_type": "markdown",
   "id": "526b263b",
   "metadata": {},
   "source": [
    "Object definitions\n",
    "==================\n",
    "\n",
    "{doc}`As before <original_data_points>`, load the query results:"
   ]
  },
  {
   "cell_type": "code",
   "execution_count": 1,
   "id": "f83d9886",
   "metadata": {},
   "outputs": [],
   "source": [
    "from example_data import results"
   ]
  },
  {
   "cell_type": "markdown",
   "id": "1f0a229c",
   "metadata": {},
   "source": [
    "---\n",
    "\n",
    "Here are just a few example object types which we might be interested in modelling.\n",
    "\n",
    "```{system:object} Aggregates\n",
    ":become_parent: true\n",
    "```\n",
    "\n",
    "```{system:object} CrushedStone\n",
    ":label: Crushed stone\n",
    "```\n",
    "\n",
    "```{system:object} SandAndGravel\n",
    ":label: Sand & Gravel\n",
    "```\n",
    "\n",
    "```{end-sub-objects}\n",
    "```\n",
    "\n",
    "```{figure} figures/Aggregates_Hierarchy.svg\n",
    ":name: Aggregates Hierarchy\n",
    ":width: 100%\n",
    "\n",
    "Aggregates Hierarchy.\n",
    "```\n",
    "\n",
    "Note that these are \"new\" objects that we have created because they are interesting for our analysis.\n",
    "We also call them _Reference Objects_.\n",
    "\n",
    "We can retrieve them using the following query:\n",
    "\n",
    "```{literalinclude} queries/object_definitions.rq\n",
    ":language: sparql\n",
    "```"
   ]
  },
  {
   "cell_type": "code",
   "execution_count": 2,
   "id": "adb3c1a7",
   "metadata": {},
   "outputs": [
    {
     "data": {
      "text/html": [
       "<div>\n",
       "<style scoped>\n",
       "    .dataframe tbody tr th:only-of-type {\n",
       "        vertical-align: middle;\n",
       "    }\n",
       "\n",
       "    .dataframe tbody tr th {\n",
       "        vertical-align: top;\n",
       "    }\n",
       "\n",
       "    .dataframe thead th {\n",
       "        text-align: right;\n",
       "    }\n",
       "</style>\n",
       "<table border=\"1\" class=\"dataframe\">\n",
       "  <thead>\n",
       "    <tr style=\"text-align: right;\">\n",
       "      <th></th>\n",
       "      <th>Object</th>\n",
       "    </tr>\n",
       "  </thead>\n",
       "  <tbody>\n",
       "    <tr>\n",
       "      <th>0</th>\n",
       "      <td>sys:CrushedStone</td>\n",
       "    </tr>\n",
       "    <tr>\n",
       "      <th>1</th>\n",
       "      <td>sys:Aggregates</td>\n",
       "    </tr>\n",
       "    <tr>\n",
       "      <th>2</th>\n",
       "      <td>sys:SandAndGravel</td>\n",
       "    </tr>\n",
       "  </tbody>\n",
       "</table>\n",
       "</div>"
      ],
      "text/plain": [
       "              Object\n",
       "0   sys:CrushedStone\n",
       "1     sys:Aggregates\n",
       "2  sys:SandAndGravel"
      ]
     },
     "execution_count": 2,
     "metadata": {},
     "output_type": "execute_result"
    }
   ],
   "source": [
    "results[\"object_definitions\"]"
   ]
  },
  {
   "cell_type": "markdown",
   "id": "93e9c900",
   "metadata": {},
   "source": [
    "And we can see the components of `Aggregates` with this query:\n",
    "\n",
    "```{literalinclude} queries/object_definitions_composition.rq\n",
    ":language: sparql\n",
    "```"
   ]
  },
  {
   "cell_type": "code",
   "execution_count": 3,
   "id": "efe0325b",
   "metadata": {},
   "outputs": [
    {
     "data": {
      "text/html": [
       "<div>\n",
       "<style scoped>\n",
       "    .dataframe tbody tr th:only-of-type {\n",
       "        vertical-align: middle;\n",
       "    }\n",
       "\n",
       "    .dataframe tbody tr th {\n",
       "        vertical-align: top;\n",
       "    }\n",
       "\n",
       "    .dataframe thead th {\n",
       "        text-align: right;\n",
       "    }\n",
       "</style>\n",
       "<table border=\"1\" class=\"dataframe\">\n",
       "  <thead>\n",
       "    <tr style=\"text-align: right;\">\n",
       "      <th></th>\n",
       "      <th>Object</th>\n",
       "    </tr>\n",
       "  </thead>\n",
       "  <tbody>\n",
       "    <tr>\n",
       "      <th>0</th>\n",
       "      <td>sys:CrushedStone</td>\n",
       "    </tr>\n",
       "    <tr>\n",
       "      <th>1</th>\n",
       "      <td>sys:SandAndGravel</td>\n",
       "    </tr>\n",
       "  </tbody>\n",
       "</table>\n",
       "</div>"
      ],
      "text/plain": [
       "              Object\n",
       "0   sys:CrushedStone\n",
       "1  sys:SandAndGravel"
      ]
     },
     "execution_count": 3,
     "metadata": {},
     "output_type": "execute_result"
    }
   ],
   "source": [
    "results[\"object_definitions_composition\"]"
   ]
  }
 ],
 "metadata": {
  "jupytext": {
   "text_representation": {
    "extension": ".md",
    "format_name": "myst",
    "format_version": 0.13,
    "jupytext_version": "1.10.3"
   }
  },
  "kernelspec": {
   "display_name": "Python 3",
   "language": "python",
   "name": "python3"
  },
  "language_info": {
   "codemirror_mode": {
    "name": "ipython",
    "version": 3
   },
   "file_extension": ".py",
   "mimetype": "text/x-python",
   "name": "python",
   "nbconvert_exporter": "python",
   "pygments_lexer": "ipython3",
   "version": "3.8.13"
  },
  "source_map": [
   12,
   19,
   21,
   58,
   60,
   68
  ]
 },
 "nbformat": 4,
 "nbformat_minor": 5
}